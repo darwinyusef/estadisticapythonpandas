{
  "cells": [
    {
      "cell_type": "markdown",
      "source": "# Estadística Descriptiva en Ciencia de Datos",
      "metadata": {
        "cell_id": "c68939efddfb4bde93b3ba5a9fe8b6ee",
        "deepnote_cell_type": "markdown"
      },
      "block_group": "3a7289b592904523a86faf742e6ad110"
    },
    {
      "cell_type": "markdown",
      "source": "En este notebook, exploraremos los conceptos básicos de estadística descriptiva en el contexto de la ciencia de datos.",
      "metadata": {
        "cell_id": "9ebffc2ba3ab4ec7b7a66661cdc1da4a",
        "deepnote_cell_type": "markdown"
      },
      "block_group": "5159ce4fa16f4e35bfa0e1df5d357e26"
    },
    {
      "cell_type": "markdown",
      "source": "## 1. Medidas de Tendencia Central\nVamos a calcular y analizar las medidas de tendencia central para un conjunto de datos ficticio.",
      "metadata": {
        "cell_id": "8429ede9287d460bbe123b539dcd193b",
        "deepnote_cell_type": "markdown"
      },
      "block_group": "a774581942424a30a1d7b39f9a6da18f"
    },
    {
      "cell_type": "code",
      "source": "import pandas as pd\nimport numpy as np\nimport matplotlib.pyplot as plt",
      "metadata": {
        "source_hash": "8ca6a091",
        "execution_start": 1693195218856,
        "execution_millis": 508,
        "deepnote_to_be_reexecuted": false,
        "cell_id": "867fded16c0a4ce38d50e2cf1b2a18ef",
        "deepnote_cell_type": "code"
      },
      "outputs": [],
      "execution_count": 1,
      "block_group": "867fded16c0a4ce38d50e2cf1b2a18ef"
    },
    {
      "cell_type": "code",
      "source": "\n\n# Crear datos ficticios\ndata = np.random.randint(0, 100, 20)\n\n# Calcular la media\nmean = np.mean(data)\n\n# Calcular la mediana\nmedian = np.median(data)\n\n# Calcular la moda\nmode = np.argmax(np.bincount(data))\n\nprint('Media:', mean)\nprint('Mediana:', median)\nprint('Moda:', mode)",
      "metadata": {
        "vscode": {
          "languageId": "python"
        },
        "source_hash": "d3031269",
        "execution_start": 1693195219301,
        "execution_millis": 84,
        "deepnote_to_be_reexecuted": false,
        "cell_id": "51c2143f37d84ea2b8c5b88b42a1481a",
        "deepnote_cell_type": "code"
      },
      "outputs": [
        {
          "name": "stdout",
          "text": "Media: 37.25\nMediana: 27.0\nModa: 73\n",
          "output_type": "stream"
        }
      ],
      "execution_count": 2,
      "block_group": "b0c7c595f7644c35ad06034ff3ff4492"
    },
    {
      "cell_type": "markdown",
      "source": "## 2. Medidas de Dispersión\nAhora exploraremos las medidas de dispersión para el mismo conjunto de datos.",
      "metadata": {
        "cell_id": "838cc00e6ef14ef997e16a75cb55aaf4",
        "deepnote_cell_type": "markdown"
      },
      "block_group": "95f900f48e0a418191387a8fa64bd817"
    },
    {
      "cell_type": "code",
      "source": "# Calcular la varianza\nvariance = np.var(data)\n\n# Calcular la desviación estándar\nstd_dev = np.std(data)\n\n# Calcular el rango\ndata_range = np.max(data) - np.min(data)\n\nprint('Varianza:', variance)\nprint('Desviación Estándar:', std_dev)\nprint('Rango:', data_range)",
      "metadata": {
        "vscode": {
          "languageId": "python"
        },
        "source_hash": "29ac5e97",
        "execution_start": 1693195219311,
        "execution_millis": 7,
        "deepnote_to_be_reexecuted": false,
        "cell_id": "1dd917bde0c14f2ca9a62a0ada60b0e4",
        "deepnote_cell_type": "code"
      },
      "outputs": [
        {
          "name": "stdout",
          "text": "Varianza: 866.8875\nDesviación Estándar: 29.442953316540784\nRango: 98\n",
          "output_type": "stream"
        }
      ],
      "execution_count": 3,
      "block_group": "5f5969daf6c741759ec8e3c67f7fcf81"
    },
    {
      "cell_type": "markdown",
      "source": "## 3. Medidas de Posición\nVamos a calcular los cuartiles y percentiles para el conjunto de datos.",
      "metadata": {
        "cell_id": "bfee21f948ce4b09ab0b5741e548f474",
        "deepnote_cell_type": "markdown"
      },
      "block_group": "3e64acc26afe4ef6b40ba012ea9bcc10"
    },
    {
      "cell_type": "code",
      "source": "# Calcular los cuartiles\nquartiles = np.percentile(data, [25, 50, 75])\n\n# Calcular percentiles específicos\npercentile_90 = np.percentile(data, 90)\npercentile_95 = np.percentile(data, 95)\n\nprint('Cuartiles:', quartiles)\nprint('Percentil 90:', percentile_90)\nprint('Percentil 95:', percentile_95)",
      "metadata": {
        "vscode": {
          "languageId": "python"
        },
        "source_hash": "1f583377",
        "execution_start": 1693195219359,
        "execution_millis": 56,
        "deepnote_to_be_reexecuted": false,
        "cell_id": "e957e45927914e67b75a1ae4a3d9e293",
        "deepnote_cell_type": "code"
      },
      "outputs": [
        {
          "name": "stdout",
          "text": "Cuartiles: [14.5 27.  62.5]\nPercentil 90: 75.9\nPercentil 95: 84.70000000000002\n",
          "output_type": "stream"
        }
      ],
      "execution_count": 4,
      "block_group": "c14e4720a3be4de9b5817cd4c1af5777"
    },
    {
      "cell_type": "markdown",
      "source": "## 4. Gráficos y Visualizaciones\nAhora crearemos un histograma para visualizar la distribución de los datos.",
      "metadata": {
        "cell_id": "ae564ae3d7f844f4aa5cfdac4c796938",
        "deepnote_cell_type": "markdown"
      },
      "block_group": "4771324a918446aa9fbf39221c73de93"
    },
    {
      "cell_type": "code",
      "source": "# Crear histograma\nplt.hist(data, bins=10, edgecolor='k')\nplt.title('Histograma de Datos')\nplt.xlabel('Valor')\nplt.ylabel('Frecuencia')\nplt.show()",
      "metadata": {
        "vscode": {
          "languageId": "python"
        },
        "source_hash": "c176bd44",
        "execution_start": 1693195219360,
        "execution_millis": 574,
        "deepnote_to_be_reexecuted": false,
        "cell_id": "5edda738754142719adace8569fbefb0",
        "deepnote_cell_type": "code"
      },
      "outputs": [
        {
          "data": {
            "text/plain": "<Figure size 640x480 with 1 Axes>",
            "image/png": "[encoded data removed]"
          },
          "metadata": {
            "image/png": {
              "width": 567,
              "height": 455
            }
          },
          "output_type": "display_data"
        }
      ],
      "execution_count": 5,
      "block_group": "c9476d324163450f9b092443e050f471"
    },
    {
      "cell_type": "markdown",
      "source": "## 5. Correlación y Dependencia\nExploraremos la matriz de correlación entre dos conjuntos de datos.",
      "metadata": {
        "cell_id": "bd54d1156d9141e0b97477e1957f7fa1",
        "deepnote_cell_type": "markdown"
      },
      "block_group": "c8d9a53637ba4e38bf4def38944dcdb3"
    },
    {
      "cell_type": "code",
      "source": "# Crear datos de ejemplo\ndata1 = np.random.randint(0, 100, 20)\ndata2 = data1 + np.random.normal(0, 10, 20)\n\n# Calcular la matriz de correlación\ncorrelation_matrix = np.corrcoef(data1, data2)\n\nprint('Matriz de Correlación:')\nprint(correlation_matrix)",
      "metadata": {
        "vscode": {
          "languageId": "python"
        },
        "source_hash": "1d6775b4",
        "execution_start": 1693195219715,
        "execution_millis": 22,
        "deepnote_to_be_reexecuted": false,
        "cell_id": "13673d7f2ca24e3e8a66a9761463149b",
        "deepnote_cell_type": "code"
      },
      "outputs": [
        {
          "name": "stdout",
          "text": "Matriz de Correlación:\n[[1.        0.9469619]\n [0.9469619 1.       ]]\n",
          "output_type": "stream"
        }
      ],
      "execution_count": 6,
      "block_group": "e731203e79b04c2783c3d5ddf3775190"
    },
    {
      "cell_type": "markdown",
      "source": "## 6. Distribuciones Estadísticas\nVamos a generar y visualizar una distribución normal y una distribución uniforme.",
      "metadata": {
        "cell_id": "76ce89cc120c4f29ae751eeadf4dc0ea",
        "deepnote_cell_type": "markdown"
      },
      "block_group": "6b82a5297b584252b99f49482f0fd257"
    },
    {
      "cell_type": "code",
      "source": "# Generar datos de una distribución normal\nmean = 0\nstd_dev = 1\ndata_normal = np.random.normal(mean, std_dev, 1000)\n\n# Generar datos de una distribución uniforme\nlow = 0\nhigh = 10\ndata_uniform = np.random.uniform(low, high, 1000)\n\n# Crear histogramas\nplt.hist(data_normal, bins=30, alpha=0.5, label='Normal')\nplt.hist(data_uniform, bins=30, alpha=0.5, label='Uniforme')\nplt.title('Distribuciones Estadísticas')\nplt.xlabel('Valor')\nplt.ylabel('Frecuencia')\nplt.legend()\nplt.show()",
      "metadata": {
        "vscode": {
          "languageId": "python"
        },
        "source_hash": "15c06a4d",
        "execution_start": 1693195219717,
        "execution_millis": 694,
        "deepnote_to_be_reexecuted": false,
        "cell_id": "00dbe020384c4bf7a8800ba8be4b60c4",
        "deepnote_cell_type": "code"
      },
      "outputs": [
        {
          "data": {
            "text/plain": "<Figure size 640x480 with 1 Axes>",
            "image/png": "[encoded data removed]"
          },
          "metadata": {
            "image/png": {
              "width": 562,
              "height": 455
            }
          },
          "output_type": "display_data"
        }
      ],
      "execution_count": 7,
      "block_group": "34c5361ba12d4b7dbdb689c3decafac6"
    },
    {
      "cell_type": "markdown",
      "source": "# 7. Medidas de Asimetría y Curtosis:",
      "metadata": {
        "cell_id": "21bf78ca93e443a0bca967f6431f84ad",
        "deepnote_cell_type": "markdown"
      },
      "block_group": "34ca5463bac24626bec03e545da6d1b3"
    },
    {
      "cell_type": "code",
      "source": "import numpy as np\n\n# Crear datos ficticios\ndata = np.random.normal(0, 1, 100)\n\n# Calcular coeficiente de asimetría y curtosis\nskewness = np.mean((data - np.mean(data)) ** 3) / np.std(data)**3\nkurtosis = np.mean((data - np.mean(data)) ** 4) / np.std(data)**4 - 3\n\nprint('Coeficiente de Asimetría:', skewness)\nprint('Coeficiente de Curtosis:', kurtosis)",
      "metadata": {
        "vscode": {
          "languageId": "python"
        },
        "source_hash": "5570b225",
        "execution_start": 1693195220083,
        "execution_millis": 21,
        "deepnote_to_be_reexecuted": false,
        "cell_id": "a8cc56ebf10749b3a2ff5488e036883c",
        "deepnote_cell_type": "code"
      },
      "outputs": [
        {
          "name": "stdout",
          "text": "Coeficiente de Asimetría: -0.06796600060928187\nCoeficiente de Curtosis: -0.2554116572276204\n",
          "output_type": "stream"
        }
      ],
      "execution_count": 8,
      "block_group": "300f67d678dd4fa4b5c30c3d7fe3e105"
    },
    {
      "cell_type": "markdown",
      "source": "# 8. Valores Atípicos y Datos Anómalos:",
      "metadata": {
        "cell_id": "34eb5c848cff44399595ef1abc5b178a",
        "deepnote_cell_type": "markdown"
      },
      "block_group": "3c6d08c21564449690eb4eda27683cd0"
    },
    {
      "cell_type": "code",
      "source": "import matplotlib.pyplot as plt\n\n# Crear datos con outliers\ndata = np.concatenate([np.random.normal(0, 1, 90), np.array([8, 10, -12])])\n\n# Crear un gráfico de caja\nplt.boxplot(data)\nplt.title('Gráfico de Caja con Outliers')\nplt.ylabel('Valores')\nplt.show()\n",
      "metadata": {
        "vscode": {
          "languageId": "python"
        },
        "source_hash": "f3bff3b",
        "execution_start": 1693195220085,
        "execution_millis": 487,
        "deepnote_to_be_reexecuted": false,
        "cell_id": "eac7eaf25ca7491686ab2aa773411948",
        "deepnote_cell_type": "code"
      },
      "outputs": [
        {
          "data": {
            "text/plain": "<Figure size 640x480 with 1 Axes>",
            "image/png": "[encoded data removed]"
          },
          "metadata": {
            "image/png": {
              "width": 574,
              "height": 436
            }
          },
          "output_type": "display_data"
        }
      ],
      "execution_count": 9,
      "block_group": "6cfe146cefdd4a1a93ba54910b9e5723"
    },
    {
      "cell_type": "markdown",
      "source": "# 9. Tablas de Contingencia y Cruzadas:",
      "metadata": {
        "cell_id": "45f3b5b7d9374f489a8958deaf7abf8c",
        "deepnote_cell_type": "markdown"
      },
      "block_group": "52a7918b61a845feac4c972d96314f78"
    },
    {
      "cell_type": "code",
      "source": "# Crear datos de ejemplo\ndata = {\n    'Genero': ['Masculino', 'Femenino', 'Masculino', 'Femenino'],\n    'Comprador': ['Si', 'No', 'No', 'Si']\n}\ndf = pd.DataFrame(data)\n\n# Crear tabla de contingencia\ncontingency_table = pd.crosstab(df['Genero'], df['Comprador'])\n\nprint(contingency_table)",
      "metadata": {
        "vscode": {
          "languageId": "python"
        },
        "source_hash": "5f93f42e",
        "execution_start": 1693195220261,
        "execution_millis": 208,
        "deepnote_to_be_reexecuted": false,
        "cell_id": "291ca568b01d4ddfb6804e5051718cb7",
        "deepnote_cell_type": "code"
      },
      "outputs": [
        {
          "name": "stdout",
          "text": "Comprador  No  Si\nGenero           \nFemenino    1   1\nMasculino   1   1\n",
          "output_type": "stream"
        }
      ],
      "execution_count": 10,
      "block_group": "a0eeead724b54bfca93eccd169e7cb2e"
    },
    {
      "cell_type": "markdown",
      "source": "# 10 .Estadísticas Resumen y Resumen Descriptivo:\n",
      "metadata": {
        "cell_id": "c2ea2f953a844bd58b64235a567bebdd",
        "deepnote_cell_type": "markdown"
      },
      "block_group": "b0890766f1a14791ba78cb06409c8af3"
    },
    {
      "cell_type": "code",
      "source": "# Crear datos ficticios\ndata = {\n    'Edad': [25, 30, 28, 22, 35, 40, 32, 27, 29, 31]\n}\ndf = pd.DataFrame(data)\n\n# Resumen estadístico\nsummary = df.describe()\n\nprint(summary)\n",
      "metadata": {
        "vscode": {
          "languageId": "python"
        },
        "source_hash": "ad6efd0d",
        "execution_start": 1693195220313,
        "execution_millis": 24,
        "deepnote_to_be_reexecuted": false,
        "cell_id": "893cf5b676ef4efbbfc4497b92c38a2a",
        "deepnote_cell_type": "code"
      },
      "outputs": [
        {
          "name": "stdout",
          "text": "            Edad\ncount  10.000000\nmean   29.900000\nstd     5.087021\nmin    22.000000\n25%    27.250000\n50%    29.500000\n75%    31.750000\nmax    40.000000\n",
          "output_type": "stream"
        }
      ],
      "execution_count": 11,
      "block_group": "d4505daba00a44318e19bab64041b8d2"
    },
    {
      "cell_type": "markdown",
      "source": "# 11 Medidas de Centralización para Datos Agrupados:",
      "metadata": {
        "cell_id": "015aba270a1d4e14bc39d903d2dfa199",
        "deepnote_cell_type": "markdown"
      },
      "block_group": "325b6372e745496c913cdd4540f1865b"
    },
    {
      "cell_type": "code",
      "source": "import numpy as np\n\n# Crear datos ficticios\ndata = np.random.randint(1, 6, 20)\n\n# Calcular media aritmética ponderada\nweights = np.random.rand(20)\nweighted_mean = np.sum(data * weights) / np.sum(weights)\n\nprint('Media Aritmética Ponderada:', weighted_mean)\n",
      "metadata": {
        "vscode": {
          "languageId": "python"
        },
        "source_hash": "552ddb78",
        "execution_start": 1693195220314,
        "execution_millis": 7,
        "deepnote_to_be_reexecuted": false,
        "cell_id": "cb820682e1744b0da1ca397933161796",
        "deepnote_cell_type": "code"
      },
      "outputs": [
        {
          "name": "stdout",
          "text": "Media Aritmética Ponderada: 3.3668270266500273\n",
          "output_type": "stream"
        }
      ],
      "execution_count": 12,
      "block_group": "581acfb5f4364409919c7baaf8aae621"
    },
    {
      "cell_type": "markdown",
      "source": "# 12. Normalización y Estandarización:",
      "metadata": {
        "cell_id": "df8bdb56bfe8469cb63c38db2ac4eb5c",
        "deepnote_cell_type": "markdown"
      },
      "block_group": "6941651f9b314ca1bd2369edcca5dccc"
    },
    {
      "cell_type": "code",
      "source": "import numpy as np\n\n# Crear datos ficticios\ndata = np.random.randint(0, 100, 20)\n\n# Normalización min-max\nmin_value = np.min(data)\nmax_value = np.max(data)\nnormalized_data = (data - min_value) / (max_value - min_value)\n\nprint('Datos Originales:', data)\nprint('Datos Normalizados:', normalized_data)\n",
      "metadata": {
        "vscode": {
          "languageId": "python"
        },
        "source_hash": "525adf5b",
        "execution_start": 1693195220315,
        "execution_millis": 8,
        "deepnote_to_be_reexecuted": false,
        "cell_id": "bf737524c6b24402810f390a337495c0",
        "deepnote_cell_type": "code"
      },
      "outputs": [
        {
          "name": "stdout",
          "text": "Datos Originales: [78 44 59 35 55 49 29 57 88 18 29 99 42 51 84 73  2 30 34 69]\nDatos Normalizados: [0.78350515 0.43298969 0.58762887 0.34020619 0.54639175 0.48453608\n 0.27835052 0.56701031 0.88659794 0.16494845 0.27835052 1.\n 0.41237113 0.50515464 0.84536082 0.73195876 0.         0.28865979\n 0.32989691 0.69072165]\n",
          "output_type": "stream"
        }
      ],
      "execution_count": 13,
      "block_group": "af9854f748a64cee9435a5cfbaa2e7a2"
    },
    {
      "cell_type": "markdown",
      "source": "<a style='text-decoration:none;line-height:16px;display:flex;color:#5B5B62;padding:10px;justify-content:end;' href='https://deepnote.com?utm_source=created-in-deepnote-cell&projectId=b8dab2b6-8042-43cf-8935-a710b7a468c0' target=\"_blank\">\n<img alt='Created in deepnote.com' style='display:inline;max-height:16px;margin:0px;margin-right:7.5px;' src='data:image/svg+xml;base64,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' > </img>\nCreated in <span style='font-weight:600;margin-left:4px;'>Deepnote</span></a>",
      "metadata": {
        "created_in_deepnote_cell": true,
        "deepnote_cell_type": "markdown"
      }
    }
  ],
  "nbformat": 4,
  "nbformat_minor": 0,
  "metadata": {
    "deepnote": {},
    "kernelspec": {
      "name": "python3",
      "language": "python",
      "display_name": "Python 3"
    },
    "deepnote_notebook_id": "417f91e9a53a4092afcc91ebdc3e4d42",
    "deepnote_execution_queue": []
  }
}